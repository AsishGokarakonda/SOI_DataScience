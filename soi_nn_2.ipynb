{
  "cells": [
    {
      "cell_type": "markdown",
      "metadata": {
        "id": "goRoKJkOiQ4a"
      },
      "source": [
        "#Data Cleaning and Transformation"
      ]
    },
    {
      "cell_type": "code",
      "execution_count": null,
      "metadata": {
        "id": "EAHVuHjre3WI"
      },
      "outputs": [],
      "source": [
        "#Load data\n",
        "import pandas as pd\n",
        "import random\n",
        "data = pd.read_csv('./files/problem_dataset.csv')"
      ]
    },
    {
      "cell_type": "code",
      "execution_count": null,
      "metadata": {
        "colab": {
          "base_uri": "https://localhost:8080/"
        },
        "id": "eZQ1gKMKe9iI",
        "outputId": "6153a6b3-2b3a-485f-cad6-9307464d86cf"
      },
      "outputs": [
        {
          "name": "stdout",
          "output_type": "stream",
          "text": [
            "6073     NTP\n",
            "14284     PC\n",
            "10358    UNK\n",
            "6454     AFP\n",
            "14648    AFP\n",
            "        ... \n",
            "6988      PC\n",
            "14751    AFP\n",
            "14107     PC\n",
            "7159     AFP\n",
            "1446     AFP\n",
            "Name: av_training_set, Length: 15000, dtype: object\n"
          ]
        }
      ],
      "source": [
        "# Remove the blank columns and unnecessary columns\n",
        "data.drop('tce_rogue_flag', inplace=True, axis=1)\n",
        "data.drop('tce_insol', inplace=True, axis=1)\n",
        "data.drop('tce_insol_err', inplace=True, axis=1)\n",
        "data.drop('kepid', inplace=True, axis=1)\n",
        "# data.drop('tce_plnt_num', inplace=True, axis=1)\n",
        "\n",
        "# Last column is labels(i.e. y), and rest are features(i.e. x)\n",
        "# Shuffle data before partitioning\n",
        "\n",
        "\n",
        "data = data.sample(frac=1) \n",
        "y = data['av_training_set']\n",
        "x = data.drop('av_training_set', axis=1)\n",
        "\n",
        "print(y)\n",
        "\n",
        "# Partition dataset into training part and testing part\n",
        "x_train = x[:13000].copy()\n",
        "y_train = y[:13000].copy()\n",
        "x_test = x[13000:].copy()\n",
        "y_test = y[13000:].copy()\n",
        "\n"
      ]
    },
    {
      "cell_type": "code",
      "execution_count": null,
      "metadata": {
        "id": "-1tFb5TIx7z6"
      },
      "outputs": [],
      "source": [
        "def string_to_onehot(arr):  # Convert text labels to one-hot encoding for categorical classification\n",
        "  int_arr = []\n",
        "\n",
        "  for x in arr:\n",
        "    if x=='AFP':\n",
        "      int_arr.append([1,0,0,0])\n",
        "    \n",
        "    elif x=='NTP':\n",
        "      int_arr.append([0,1,0,0])\n",
        "    \n",
        "    elif x=='PC':\n",
        "      int_arr.append([0,0,1,0])\n",
        "      \n",
        "    elif x=='UNK':\n",
        "      int_arr.append([0,0,0,1])\n",
        "  \n",
        "  return int_arr\n",
        "\n",
        "def onehot_to_string(int_arr):  # Convert back one-hot to text\n",
        "  arr = []\n",
        "\n",
        "  for x in int_arr:\n",
        "    if x==[1,0,0,0]:\n",
        "      int_arr.append('AFP')\n",
        "    \n",
        "    elif x==[0,1,0,0]:\n",
        "      int_arr.append('NTP')\n",
        "    \n",
        "    elif x==[0,0,1,0]:\n",
        "      int_arr.append('PC')\n",
        "      \n",
        "    elif x==[0,0,0,1]:\n",
        "      int_arr.append('UNK')"
      ]
    },
    {
      "cell_type": "code",
      "execution_count": null,
      "metadata": {
        "colab": {
          "base_uri": "https://localhost:8080/"
        },
        "id": "ndyPymUXXraM",
        "outputId": "8ef69983-71ce-4d27-8539-3455bc9c940c"
      },
      "outputs": [
        {
          "name": "stdout",
          "output_type": "stream",
          "text": [
            "       0  1  2  3\n",
            "0      0  1  0  0\n",
            "1      0  0  1  0\n",
            "2      0  0  0  1\n",
            "3      1  0  0  0\n",
            "4      1  0  0  0\n",
            "...   .. .. .. ..\n",
            "14995  0  0  1  0\n",
            "14996  1  0  0  0\n",
            "14997  0  0  1  0\n",
            "14998  1  0  0  0\n",
            "14999  1  0  0  0\n",
            "\n",
            "[15000 rows x 4 columns]\n"
          ]
        }
      ],
      "source": [
        "y = pd.DataFrame(string_to_onehot(y))\n",
        "print(y)"
      ]
    },
    {
      "cell_type": "code",
      "execution_count": null,
      "metadata": {
        "colab": {
          "base_uri": "https://localhost:8080/"
        },
        "id": "LXvU5Ev1j080",
        "outputId": "af8d0191-1a54-477f-d1dc-6dc7a4afc4d5"
      },
      "outputs": [
        {
          "data": {
            "text/plain": [
              "(13000,)"
            ]
          },
          "execution_count": 4,
          "metadata": {},
          "output_type": "execute_result"
        }
      ],
      "source": [
        "y_train.shape"
      ]
    },
    {
      "cell_type": "code",
      "execution_count": null,
      "metadata": {
        "colab": {
          "base_uri": "https://localhost:8080/"
        },
        "id": "4nJj8nVUyv8j",
        "outputId": "d6327ce6-897b-44d6-865e-94131c601bec"
      },
      "outputs": [
        {
          "ename": "",
          "evalue": "",
          "output_type": "error",
          "traceback": [
            "\u001b[1;31mRunning cells with 'Python 3.10.4 ('venv': venv)' requires ipykernel package.\n",
            "Run the following command to install 'ipykernel' into the Python environment. \n",
            "Command: 'c:/Users/karth/codes/codes/dev/tensorflowml/soi_sds/SOI_DataScience/venv/Scripts/python.exe -m pip install ipykernel -U --force-reinstall'"
          ]
        }
      ],
      "source": [
        "# Get the one-hot encoding for training and testing labels\n",
        "y_train = string_to_onehot(y_train)\n",
        "y_test = string_to_onehot(y_test)\n"
      ]
    },
    {
      "cell_type": "markdown",
      "metadata": {
        "id": "VU0dBUKaibFU"
      },
      "source": [
        "#Creating the Model"
      ]
    },
    {
      "cell_type": "code",
      "execution_count": null,
      "metadata": {
        "colab": {
          "base_uri": "https://localhost:8080/"
        },
        "id": "SChCEY91fOFN",
        "outputId": "8a4ec202-3f48-4934-c4af-91d7952fecf9"
      },
      "outputs": [
        {
          "name": "stdout",
          "output_type": "stream",
          "text": [
            "Model: \"sequential_3\"\n",
            "_________________________________________________________________\n",
            " Layer (type)                Output Shape              Param #   \n",
            "=================================================================\n",
            " batch_normalization_10 (Bat  (None, 22)               88        \n",
            " chNormalization)                                                \n",
            "                                                                 \n",
            " dense_15 (Dense)            (None, 100)               2300      \n",
            "                                                                 \n",
            " dense_16 (Dense)            (None, 512)               51712     \n",
            "                                                                 \n",
            " dropout_8 (Dropout)         (None, 512)               0         \n",
            "                                                                 \n",
            " batch_normalization_11 (Bat  (None, 512)              2048      \n",
            " chNormalization)                                                \n",
            "                                                                 \n",
            " dense_17 (Dense)            (None, 100)               51300     \n",
            "                                                                 \n",
            " dropout_9 (Dropout)         (None, 100)               0         \n",
            "                                                                 \n",
            " batch_normalization_12 (Bat  (None, 100)              400       \n",
            " chNormalization)                                                \n",
            "                                                                 \n",
            " dense_18 (Dense)            (None, 40)                4040      \n",
            "                                                                 \n",
            " dropout_10 (Dropout)        (None, 40)                0         \n",
            "                                                                 \n",
            " batch_normalization_13 (Bat  (None, 40)               160       \n",
            " chNormalization)                                                \n",
            "                                                                 \n",
            " dense_19 (Dense)            (None, 4)                 164       \n",
            "                                                                 \n",
            "=================================================================\n",
            "Total params: 112,212\n",
            "Trainable params: 110,864\n",
            "Non-trainable params: 1,348\n",
            "_________________________________________________________________\n"
          ]
        }
      ],
      "source": [
        "from keras.models import Sequential\n",
        "from keras.layers import Dense\n",
        "model = Sequential()\n",
        "import tensorflow as tf\n",
        "\n",
        "model.add(tf.keras.layers.BatchNormalization(input_dim=22))\n",
        "model.add(Dense(100, activation='relu'))\n",
        "\n",
        "# model.add(Dense(25, activation='relu'))\n",
        "# model.add(Dense(10, activation='relu'))\n",
        "# model.add(Dense(25, activation='relu'))\n",
        "# model.add(Dense(10, activation='relu'))\n",
        "# model.add(Dense(25, activation='relu'))\n",
        "\n",
        "model.add(Dense(512, activation='relu'))\n",
        "model.add(tf.keras.layers.Dropout(rate=0.3))\n",
        "model.add(tf.keras.layers.BatchNormalization())\n",
        "\n",
        "model.add(Dense(100, activation='relu'))\n",
        "model.add(tf.keras.layers.Dropout(rate=0.3))\n",
        "model.add(tf.keras.layers.BatchNormalization())\n",
        "\n",
        "\n",
        "model.add(Dense(40, activation='relu'))\n",
        "model.add(tf.keras.layers.Dropout(rate=0.3))\n",
        "model.add(tf.keras.layers.BatchNormalization())\n",
        "\n",
        "# model.add(Dense(30, activation='relu'))\n",
        "# model.add(tf.keras.layers.Dropout(rate=0.3))\n",
        "# model.add(tf.keras.layers.BatchNormalization())\n",
        "# model.add(Dense(20, activation='relu'))\n",
        "# model.add(tf.keras.layers.Dropout(rate=0.3))\n",
        "# model.add(tf.keras.layers.BatchNormalization())\n",
        "# model.add(Dense(10, activation='relu'))\n",
        "\n",
        "# model.add(Dense(512, activation='relu'))\n",
        "# model.add(Dense(512, activation='relu'))\n",
        "# model.add(Dense(512, activation='relu'))\n",
        "model.add(Dense(4, activation='softmax'))\n",
        "\n",
        "model.summary()"
      ]
    },
    {
      "cell_type": "code",
      "execution_count": null,
      "metadata": {
        "colab": {
          "base_uri": "https://localhost:8080/"
        },
        "id": "i0Enu93q1M70",
        "outputId": "076c8539-652f-4cec-90bb-818ec1168d93"
      },
      "outputs": [
        {
          "name": "stdout",
          "output_type": "stream",
          "text": [
            "Model: \"sequential_4\"\n",
            "_________________________________________________________________\n",
            " Layer (type)                Output Shape              Param #   \n",
            "=================================================================\n",
            " dense_20 (Dense)            (None, 32)                736       \n",
            "                                                                 \n",
            " dense_21 (Dense)            (None, 64)                2112      \n",
            "                                                                 \n",
            " dense_22 (Dense)            (None, 4)                 260       \n",
            "                                                                 \n",
            "=================================================================\n",
            "Total params: 3,108\n",
            "Trainable params: 3,108\n",
            "Non-trainable params: 0\n",
            "_________________________________________________________________\n"
          ]
        }
      ],
      "source": [
        "model_1 = Sequential()\n",
        "model_1.add(Dense(32, input_dim=22, activation='relu'))\n",
        "model_1.add(Dense(64, activation='relu'))\n",
        "model_1.add(Dense(4, activation='softmax'))\n",
        "\n",
        "\n",
        "model_1.summary()"
      ]
    },
    {
      "cell_type": "markdown",
      "metadata": {
        "id": "M_5aEJDFihiZ"
      },
      "source": [
        "#Training the Model"
      ]
    },
    {
      "cell_type": "code",
      "execution_count": null,
      "metadata": {
        "id": "M1cSSXyBY-v-"
      },
      "outputs": [],
      "source": [
        "import tensorflow as tf\n",
        "trainer = tf.keras.optimizers.SGD(learning_rate=0.45)"
      ]
    },
    {
      "cell_type": "code",
      "execution_count": null,
      "metadata": {
        "id": "bgGmXb_rP7GM"
      },
      "outputs": [],
      "source": [
        "model.compile(optimizer='adam',loss = 'categorical_crossentropy', metrics=['accuracy'])\n",
        "model_1.compile(optimizer='adam',loss = 'categorical_crossentropy', metrics=['accuracy'])"
      ]
    },
    {
      "cell_type": "code",
      "execution_count": null,
      "metadata": {
        "colab": {
          "base_uri": "https://localhost:8080/"
        },
        "id": "kOnRA6veiZyc",
        "outputId": "3958c3ac-bc4e-44f2-94c2-cf623873b097"
      },
      "outputs": [
        {
          "name": "stdout",
          "output_type": "stream",
          "text": [
            "       0  1  2  3\n",
            "0      0  0  1  0\n",
            "1      1  0  0  0\n",
            "2      0  1  0  0\n",
            "3      1  0  0  0\n",
            "4      1  0  0  0\n",
            "...   .. .. .. ..\n",
            "12995  0  0  0  1\n",
            "12996  1  0  0  0\n",
            "12997  1  0  0  0\n",
            "12998  1  0  0  0\n",
            "12999  0  0  1  0\n",
            "\n",
            "[13000 rows x 4 columns]\n",
            "       0  1  2  3\n",
            "0      0  0  1  0\n",
            "1      1  0  0  0\n",
            "2      0  1  0  0\n",
            "3      1  0  0  0\n",
            "4      1  0  0  0\n",
            "...   .. .. .. ..\n",
            "12995  0  0  0  1\n",
            "12996  1  0  0  0\n",
            "12997  1  0  0  0\n",
            "12998  1  0  0  0\n",
            "12999  0  0  1  0\n",
            "\n",
            "[13000 rows x 4 columns]\n"
          ]
        }
      ],
      "source": [
        "print(y_train)\n",
        "y_train = pd.DataFrame(y_train)\n",
        "print(y_train)"
      ]
    },
    {
      "cell_type": "code",
      "execution_count": null,
      "metadata": {
        "colab": {
          "base_uri": "https://localhost:8080/"
        },
        "id": "D1bWl9hofeLj",
        "outputId": "b3b56077-4cbb-456a-c11b-a77a423f3665"
      },
      "outputs": [
        {
          "name": "stdout",
          "output_type": "stream",
          "text": [
            "Epoch 1/100\n",
            "30/30 [==============================] - 1s 19ms/step - loss: 0.3878 - accuracy: 0.8396\n",
            "Epoch 2/100\n",
            "30/30 [==============================] - 1s 21ms/step - loss: 0.3946 - accuracy: 0.8347\n",
            "Epoch 3/100\n",
            "30/30 [==============================] - 1s 19ms/step - loss: 0.3933 - accuracy: 0.8347\n",
            "Epoch 4/100\n",
            "30/30 [==============================] - 1s 20ms/step - loss: 0.3854 - accuracy: 0.8398\n",
            "Epoch 5/100\n",
            "30/30 [==============================] - 1s 20ms/step - loss: 0.3838 - accuracy: 0.8414\n",
            "Epoch 6/100\n",
            "30/30 [==============================] - 1s 20ms/step - loss: 0.3812 - accuracy: 0.8437\n",
            "Epoch 7/100\n",
            "30/30 [==============================] - 1s 20ms/step - loss: 0.4058 - accuracy: 0.8350\n",
            "Epoch 8/100\n",
            "30/30 [==============================] - 1s 20ms/step - loss: 0.3883 - accuracy: 0.8399\n",
            "Epoch 9/100\n",
            "30/30 [==============================] - 1s 21ms/step - loss: 0.3888 - accuracy: 0.8365\n",
            "Epoch 10/100\n",
            "30/30 [==============================] - 1s 20ms/step - loss: 0.3900 - accuracy: 0.8406\n",
            "Epoch 11/100\n",
            "30/30 [==============================] - 1s 20ms/step - loss: 0.3974 - accuracy: 0.8352\n",
            "Epoch 12/100\n",
            "30/30 [==============================] - 1s 21ms/step - loss: 0.3940 - accuracy: 0.8370\n",
            "Epoch 13/100\n",
            "30/30 [==============================] - 1s 20ms/step - loss: 0.3968 - accuracy: 0.8345\n",
            "Epoch 14/100\n",
            "30/30 [==============================] - 1s 20ms/step - loss: 0.3927 - accuracy: 0.8351\n",
            "Epoch 15/100\n",
            "30/30 [==============================] - 1s 20ms/step - loss: 0.3930 - accuracy: 0.8388\n",
            "Epoch 16/100\n",
            "30/30 [==============================] - 1s 20ms/step - loss: 0.3931 - accuracy: 0.8375\n",
            "Epoch 17/100\n",
            "30/30 [==============================] - 1s 20ms/step - loss: 0.3878 - accuracy: 0.8411\n",
            "Epoch 18/100\n",
            "30/30 [==============================] - 1s 19ms/step - loss: 0.3877 - accuracy: 0.8371\n",
            "Epoch 19/100\n",
            "30/30 [==============================] - 1s 21ms/step - loss: 0.3990 - accuracy: 0.8320\n",
            "Epoch 20/100\n",
            "30/30 [==============================] - 1s 20ms/step - loss: 0.3928 - accuracy: 0.8375\n",
            "Epoch 21/100\n",
            "30/30 [==============================] - 1s 20ms/step - loss: 0.3908 - accuracy: 0.8378\n",
            "Epoch 22/100\n",
            "30/30 [==============================] - 1s 20ms/step - loss: 0.3958 - accuracy: 0.8366\n",
            "Epoch 23/100\n",
            "30/30 [==============================] - 1s 19ms/step - loss: 0.3970 - accuracy: 0.8355\n",
            "Epoch 24/100\n",
            "30/30 [==============================] - 1s 20ms/step - loss: 0.3954 - accuracy: 0.8360\n",
            "Epoch 25/100\n",
            "30/30 [==============================] - 1s 19ms/step - loss: 0.3852 - accuracy: 0.8389\n",
            "Epoch 26/100\n",
            "30/30 [==============================] - 1s 20ms/step - loss: 0.3823 - accuracy: 0.8425\n",
            "Epoch 27/100\n",
            "30/30 [==============================] - 1s 20ms/step - loss: 0.3812 - accuracy: 0.8450\n",
            "Epoch 28/100\n",
            "30/30 [==============================] - 1s 20ms/step - loss: 0.3910 - accuracy: 0.8397\n",
            "Epoch 29/100\n",
            "30/30 [==============================] - 1s 20ms/step - loss: 0.3952 - accuracy: 0.8353\n",
            "Epoch 30/100\n",
            "30/30 [==============================] - 1s 20ms/step - loss: 0.3880 - accuracy: 0.8385\n",
            "Epoch 31/100\n",
            "30/30 [==============================] - 1s 20ms/step - loss: 0.3915 - accuracy: 0.8376\n",
            "Epoch 32/100\n",
            "30/30 [==============================] - 1s 19ms/step - loss: 0.3835 - accuracy: 0.8445\n",
            "Epoch 33/100\n",
            "30/30 [==============================] - 1s 20ms/step - loss: 0.3935 - accuracy: 0.8401\n",
            "Epoch 34/100\n",
            "30/30 [==============================] - 1s 20ms/step - loss: 0.3880 - accuracy: 0.8395\n",
            "Epoch 35/100\n",
            "30/30 [==============================] - 1s 19ms/step - loss: 0.3779 - accuracy: 0.8471\n",
            "Epoch 36/100\n",
            "30/30 [==============================] - 1s 20ms/step - loss: 0.3914 - accuracy: 0.8378\n",
            "Epoch 37/100\n",
            "30/30 [==============================] - 1s 20ms/step - loss: 0.3852 - accuracy: 0.8429\n",
            "Epoch 38/100\n",
            "30/30 [==============================] - 1s 20ms/step - loss: 0.3887 - accuracy: 0.8375\n",
            "Epoch 39/100\n",
            "30/30 [==============================] - 1s 20ms/step - loss: 0.3773 - accuracy: 0.8437\n",
            "Epoch 40/100\n",
            "30/30 [==============================] - 1s 20ms/step - loss: 0.3847 - accuracy: 0.8393\n",
            "Epoch 41/100\n",
            "30/30 [==============================] - 1s 20ms/step - loss: 0.3845 - accuracy: 0.8429\n",
            "Epoch 42/100\n",
            "30/30 [==============================] - 1s 20ms/step - loss: 0.3884 - accuracy: 0.8411\n",
            "Epoch 43/100\n",
            "30/30 [==============================] - 1s 20ms/step - loss: 0.3964 - accuracy: 0.8369\n",
            "Epoch 44/100\n",
            "30/30 [==============================] - 1s 19ms/step - loss: 0.3986 - accuracy: 0.8300\n",
            "Epoch 45/100\n",
            "30/30 [==============================] - 1s 20ms/step - loss: 0.3833 - accuracy: 0.8455\n",
            "Epoch 46/100\n",
            "30/30 [==============================] - 1s 20ms/step - loss: 0.3895 - accuracy: 0.8387\n",
            "Epoch 47/100\n",
            "30/30 [==============================] - 1s 20ms/step - loss: 0.3871 - accuracy: 0.8391\n",
            "Epoch 48/100\n",
            "30/30 [==============================] - 1s 20ms/step - loss: 0.3931 - accuracy: 0.8355\n",
            "Epoch 49/100\n",
            "30/30 [==============================] - 1s 20ms/step - loss: 0.3970 - accuracy: 0.8386\n",
            "Epoch 50/100\n",
            "30/30 [==============================] - 1s 20ms/step - loss: 0.3886 - accuracy: 0.8437\n",
            "Epoch 51/100\n",
            "30/30 [==============================] - 1s 20ms/step - loss: 0.3957 - accuracy: 0.8381\n",
            "Epoch 52/100\n",
            "30/30 [==============================] - 1s 19ms/step - loss: 0.3936 - accuracy: 0.8373\n",
            "Epoch 53/100\n",
            "30/30 [==============================] - 1s 20ms/step - loss: 0.3886 - accuracy: 0.8395\n",
            "Epoch 54/100\n",
            "30/30 [==============================] - 1s 20ms/step - loss: 0.3867 - accuracy: 0.8367\n",
            "Epoch 55/100\n",
            "30/30 [==============================] - 1s 20ms/step - loss: 0.3787 - accuracy: 0.8442\n",
            "Epoch 56/100\n",
            "30/30 [==============================] - 1s 20ms/step - loss: 0.3961 - accuracy: 0.8364\n",
            "Epoch 57/100\n",
            "30/30 [==============================] - 1s 21ms/step - loss: 0.3929 - accuracy: 0.8414\n",
            "Epoch 58/100\n",
            "30/30 [==============================] - 1s 20ms/step - loss: 0.3923 - accuracy: 0.8417\n",
            "Epoch 59/100\n",
            "30/30 [==============================] - 1s 19ms/step - loss: 0.3820 - accuracy: 0.8429\n",
            "Epoch 60/100\n",
            "30/30 [==============================] - 1s 20ms/step - loss: 0.3907 - accuracy: 0.8392\n",
            "Epoch 61/100\n",
            "30/30 [==============================] - 1s 20ms/step - loss: 0.3754 - accuracy: 0.8465\n",
            "Epoch 62/100\n",
            "30/30 [==============================] - 1s 20ms/step - loss: 0.3840 - accuracy: 0.8412\n",
            "Epoch 63/100\n",
            "30/30 [==============================] - 1s 20ms/step - loss: 0.3896 - accuracy: 0.8401\n",
            "Epoch 64/100\n",
            "30/30 [==============================] - 1s 20ms/step - loss: 0.3917 - accuracy: 0.8384\n",
            "Epoch 65/100\n",
            "30/30 [==============================] - 1s 20ms/step - loss: 0.3860 - accuracy: 0.8419\n",
            "Epoch 66/100\n",
            "30/30 [==============================] - 1s 20ms/step - loss: 0.3868 - accuracy: 0.8416\n",
            "Epoch 67/100\n",
            "30/30 [==============================] - 1s 20ms/step - loss: 0.3779 - accuracy: 0.8455\n",
            "Epoch 68/100\n",
            "30/30 [==============================] - 1s 20ms/step - loss: 0.3876 - accuracy: 0.8413\n",
            "Epoch 69/100\n",
            "30/30 [==============================] - 1s 20ms/step - loss: 0.3958 - accuracy: 0.8379\n",
            "Epoch 70/100\n",
            "30/30 [==============================] - 1s 20ms/step - loss: 0.3992 - accuracy: 0.8361\n",
            "Epoch 71/100\n",
            "30/30 [==============================] - 1s 21ms/step - loss: 0.3861 - accuracy: 0.8377\n",
            "Epoch 72/100\n",
            "30/30 [==============================] - 1s 21ms/step - loss: 0.3859 - accuracy: 0.8406\n",
            "Epoch 73/100\n",
            "30/30 [==============================] - 1s 20ms/step - loss: 0.3913 - accuracy: 0.8397\n",
            "Epoch 74/100\n",
            "30/30 [==============================] - 1s 21ms/step - loss: 0.3788 - accuracy: 0.8419\n",
            "Epoch 75/100\n",
            "30/30 [==============================] - 1s 20ms/step - loss: 0.3925 - accuracy: 0.8382\n",
            "Epoch 76/100\n",
            "30/30 [==============================] - 1s 20ms/step - loss: 0.3879 - accuracy: 0.8401\n",
            "Epoch 77/100\n",
            "30/30 [==============================] - 1s 20ms/step - loss: 0.3921 - accuracy: 0.8353\n",
            "Epoch 78/100\n",
            "30/30 [==============================] - 1s 21ms/step - loss: 0.3840 - accuracy: 0.8452\n",
            "Epoch 79/100\n",
            "30/30 [==============================] - 1s 20ms/step - loss: 0.3781 - accuracy: 0.8411\n",
            "Epoch 80/100\n",
            "30/30 [==============================] - 1s 21ms/step - loss: 0.3866 - accuracy: 0.8413\n",
            "Epoch 81/100\n",
            "30/30 [==============================] - 1s 21ms/step - loss: 0.3832 - accuracy: 0.8424\n",
            "Epoch 82/100\n",
            "30/30 [==============================] - 1s 20ms/step - loss: 0.3803 - accuracy: 0.8459\n",
            "Epoch 83/100\n",
            "30/30 [==============================] - 1s 21ms/step - loss: 0.3853 - accuracy: 0.8413\n",
            "Epoch 84/100\n",
            "30/30 [==============================] - 1s 20ms/step - loss: 0.3742 - accuracy: 0.8465\n",
            "Epoch 85/100\n",
            "30/30 [==============================] - 1s 20ms/step - loss: 0.3894 - accuracy: 0.8364\n",
            "Epoch 86/100\n",
            "30/30 [==============================] - 1s 20ms/step - loss: 0.3836 - accuracy: 0.8413\n",
            "Epoch 87/100\n",
            "30/30 [==============================] - 1s 20ms/step - loss: 0.3857 - accuracy: 0.8425\n",
            "Epoch 88/100\n",
            "30/30 [==============================] - 1s 21ms/step - loss: 0.3895 - accuracy: 0.8414\n",
            "Epoch 89/100\n",
            "30/30 [==============================] - 1s 20ms/step - loss: 0.3782 - accuracy: 0.8435\n",
            "Epoch 90/100\n",
            "30/30 [==============================] - 1s 20ms/step - loss: 0.3833 - accuracy: 0.8430\n",
            "Epoch 91/100\n",
            "30/30 [==============================] - 1s 20ms/step - loss: 0.3953 - accuracy: 0.8375\n",
            "Epoch 92/100\n",
            "30/30 [==============================] - 1s 20ms/step - loss: 0.3949 - accuracy: 0.8340\n",
            "Epoch 93/100\n",
            "30/30 [==============================] - 1s 20ms/step - loss: 0.3975 - accuracy: 0.8357\n",
            "Epoch 94/100\n",
            "30/30 [==============================] - 1s 20ms/step - loss: 0.3820 - accuracy: 0.8406\n",
            "Epoch 95/100\n",
            "30/30 [==============================] - 1s 20ms/step - loss: 0.3934 - accuracy: 0.8390\n",
            "Epoch 96/100\n",
            "30/30 [==============================] - 1s 21ms/step - loss: 0.3805 - accuracy: 0.8464\n",
            "Epoch 97/100\n",
            "30/30 [==============================] - 1s 20ms/step - loss: 0.3835 - accuracy: 0.8382\n",
            "Epoch 98/100\n",
            "30/30 [==============================] - 1s 20ms/step - loss: 0.3949 - accuracy: 0.8399\n",
            "Epoch 99/100\n",
            "30/30 [==============================] - 1s 20ms/step - loss: 0.3777 - accuracy: 0.8463\n",
            "Epoch 100/100\n",
            "30/30 [==============================] - 1s 21ms/step - loss: 0.3860 - accuracy: 0.8399\n"
          ]
        }
      ],
      "source": [
        "hist = model.fit(x, y, epochs=100, batch_size=500)"
      ]
    },
    {
      "cell_type": "code",
      "execution_count": null,
      "metadata": {
        "colab": {
          "base_uri": "https://localhost:8080/"
        },
        "id": "T1rLmVhAP1bO",
        "outputId": "3271a7a8-2719-474c-ddf4-b495541f00eb"
      },
      "outputs": [
        {
          "name": "stdout",
          "output_type": "stream",
          "text": [
            "INFO:tensorflow:Assets written to: saved_model/my_model/assets\n"
          ]
        }
      ],
      "source": [
        "model.save('files/model')"
      ]
    },
    {
      "cell_type": "code",
      "execution_count": null,
      "metadata": {
        "colab": {
          "base_uri": "https://localhost:8080/",
          "height": 265
        },
        "id": "fRL6W7qQeINz",
        "outputId": "5f7c22f2-8b49-4753-e7e0-f385e19fc04e"
      },
      "outputs": [
        {
          "data": {
            "image/png": "[encoded data removed]",
            "text/plain": [
              "<Figure size 432x288 with 1 Axes>"
            ]
          },
          "metadata": {
            "needs_background": "light"
          },
          "output_type": "display_data"
        }
      ],
      "source": [
        "import pandas as pd\n",
        "\n",
        "# convert the training history to a dataframe\n",
        "history_df = pd.DataFrame(hist.history)\n",
        "# use Pandas native plot method to plot loss vs epochs\n",
        "history_df['loss'].plot();"
      ]
    },
    {
      "cell_type": "markdown",
      "metadata": {
        "id": "7hPGRigviqMb"
      },
      "source": [
        "#Predicting the Labels"
      ]
    },
    {
      "cell_type": "code",
      "execution_count": null,
      "metadata": {
        "colab": {
          "base_uri": "https://localhost:8080/"
        },
        "id": "jREzKZtnfir9",
        "outputId": "34885414-fa5c-4450-d1ed-6c76e40733c3"
      },
      "outputs": [
        {
          "name": "stdout",
          "output_type": "stream",
          "text": [
            "63/63 [==============================] - 0s 2ms/step - loss: 1.4221 - accuracy: 0.6020\n",
            "Model accuracy: 60.20\n"
          ]
        }
      ],
      "source": [
        "y_test = pd.DataFrame(y_test)\n",
        "loss, accuracy = model.evaluate(x_test,y_test)    #testing\n",
        "print(\"Model accuracy: %.2f\"% (accuracy*100))"
      ]
    },
    {
      "cell_type": "code",
      "execution_count": null,
      "metadata": {
        "colab": {
          "base_uri": "https://localhost:8080/"
        },
        "id": "8zWHvKamwwIN",
        "outputId": "238e5e1b-1711-4ed1-84e8-fc78afefc4e2"
      },
      "outputs": [
        {
          "name": "stdout",
          "output_type": "stream",
          "text": [
            "1.4221160411834717\n"
          ]
        }
      ],
      "source": [
        "print(accuracy)"
      ]
    },
    {
      "cell_type": "code",
      "execution_count": null,
      "metadata": {
        "id": "AqJmcN-dVyzM"
      },
      "outputs": [],
      "source": [
        "print(loss)"
      ]
    },
    {
      "cell_type": "code",
      "execution_count": null,
      "metadata": {
        "id": "gzsYArLZOUr5"
      },
      "outputs": [],
      "source": []
    }
  ],
  "metadata": {
    "colab": {
      "collapsed_sections": [],
      "name": "soi_nn_2.ipynb",
      "provenance": []
    },
    "kernelspec": {
      "display_name": "Python 3.10.4 ('venv': venv)",
      "language": "python",
      "name": "python3"
    },
    "language_info": {
      "name": "python",
      "version": "3.10.4"
    },
    "vscode": {
      "interpreter": {
        "hash": "c97fa1d3538d8d73843d60608838e92cbbaf13bd0a94b054d4d12ab3a903072e"
      }
    }
  },
  "nbformat": 4,
  "nbformat_minor": 0
}
